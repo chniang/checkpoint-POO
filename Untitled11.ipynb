{
 "cells": [
  {
   "cell_type": "code",
   "execution_count": 10,
   "id": "20f964bb-6094-43aa-9634-ca281742b90b",
   "metadata": {},
   "outputs": [
    {
     "name": "stdout",
     "output_type": "stream",
     "text": [
      "(1,2,3)\n"
     ]
    }
   ],
   "source": [
    "class Point3D:\n",
    "    def __init__(self,x,y,z):\n",
    "        self.x=x\n",
    "        self.y=y\n",
    "        self.z=z\n",
    "    def afficher_infos(self):\n",
    "        return f\"({self.x},{self.y},{self.z})\"\n",
    "# Création de l'objet my_point avec x=1, y=2, z=3\n",
    "my_ponit = Point3D(1,2,3)\n",
    "# Affichage des coordonnées du point\n",
    "print(my_ponit.afficher_infos())"
   ]
  },
  {
   "cell_type": "code",
   "execution_count": 31,
   "id": "78c51efb-5376-4231-b4d2-f6a7aa8c6299",
   "metadata": {},
   "outputs": [
    {
     "name": "stdout",
     "output_type": "stream",
     "text": [
      "aire: 12\n",
      "perimetre: 14\n"
     ]
    }
   ],
   "source": [
    "class Rectangle:\n",
    "    def __init__(self, longueur, largeur):\n",
    "        self.longueur = longueur  # Attribut longueur\n",
    "        self.largeur = largeur    # Attribut largeur\n",
    "\n",
    "    def area(self):\n",
    "        return self.longueur * self.largeur  # Utilisation des attributs de l'objet\n",
    "\n",
    "    def perimeter(self):\n",
    "        return 2 * (self.longueur + self.largeur)  # Utilisation des attributs de l'objet\n",
    "\n",
    "# Création d'une instance de Rectangle\n",
    "my_rectangle = Rectangle(3, 4)\n",
    "\n",
    "# Calcul de l'aire\n",
    "print(\"Aire :\", my_rectangle.area())  # Affiche : Aire : 12\n",
    "\n",
    "# Calcul du périmètre\n",
    "print(\"Périmètre :\", my_rectangle.perimeter())  # Affiche : Périmètre : 14\n",
    "\n",
    "\n",
    "    "
   ]
  },
  {
   "cell_type": "code",
   "execution_count": 41,
   "id": "3ce1b1ed-5dd5-4f23-a55b-dff77504a3a2",
   "metadata": {},
   "outputs": [
    {
     "name": "stdout",
     "output_type": "stream",
     "text": [
      "Aire: 78.5\n",
      "Périmètre: 31.400000000000002\n",
      "Le point (3, 4) est-il à l'intérieur du cercle ? False\n"
     ]
    }
   ],
   "source": [
    "class Circle:\n",
    "    def __init__(self, x, y, r):\n",
    "        self.x = x  # Coordonnée x du centre\n",
    "        self.y = y  # Coordonnée y du centre\n",
    "        self.r = r  # Rayon du cercle\n",
    "\n",
    "    def Area(self):\n",
    "        # Calcul de l'aire du cercle (πr²)\n",
    "        pi = 3.14\n",
    "        return pi * (self.r ** 2)\n",
    "\n",
    "    def Perimeter(self):\n",
    "        # Calcul du périmètre du cercle (2πr)\n",
    "        pi = 3.14\n",
    "        return 2 * pi * self.r\n",
    "        #POUR LA PARTIE QUI SUIT JAI DEMANDE DE LAIDE A LINTELLIGENCE ARTIFICIELLE COPILOT POUR COMPRENDRE COMMENT PROCEDER\n",
    "\n",
    "    def isInside(self, a, b):\n",
    "        # Vérifie si le point (a, b) est à l'intérieur du cercle\n",
    "        distance_carree = (a - self.x) ** 2 + (b - self.y) ** 2\n",
    "        if distance_carree <= self.r ** 2:\n",
    "            return True\n",
    "        else:\n",
    "            return False\n",
    "\n",
    "\n",
    "# Exemple d'utilisation\n",
    "cercle = Circle(9, 6, 5)\n",
    "print(\"Aire:\", cercle.Area())\n",
    "print(\"Périmètre:\", cercle.Perimeter())\n",
    "print(\"Le point (3, 4) est-il à l'intérieur du cercle ?\", cercle.isInside(3, 4))\n",
    "\n",
    "    "
   ]
  },
  {
   "cell_type": "code",
   "execution_count": 21,
   "id": "a5f5d280-52ef-4d5d-86b7-c1493c2127f4",
   "metadata": {},
   "outputs": [
    {
     "name": "stdout",
     "output_type": "stream",
     "text": [
      "Solde après dépôt de 500: 1500\n",
      "Solde après retrait de 200: 1300\n",
      "Fonds insuffisants pour cette opération.\n",
      "Solde après retrait de 1500: 1300\n"
     ]
    }
   ],
   "source": [
    "#POUR cette exercice aussi JAI DEMANDE DE LAIDE A LINTELLIGENCE ARTIFICIELLE COPILOT POUR COMPRENDRE COMMENT PROCEDER\n",
    "class Bank:\n",
    "    def __init__(self, solde_initial):\n",
    "        self.solde = solde_initial\n",
    "\n",
    "    def depot(self, montant):\n",
    "        self.solde += montant\n",
    "        return self.solde\n",
    "\n",
    "    def retrait(self, montant):\n",
    "        if montant > self.solde:\n",
    "            print(\"Fonds insuffisants pour cette opération.\")\n",
    "        else:\n",
    "            self.solde -= montant\n",
    "        return self.solde\n",
    "\n",
    "# Exemple d'utilisation\n",
    "compte = Bank(1000)  # Création d'un compte avec un solde initial de 1000\n",
    "print(\"Solde après dépôt de 500:\", compte.depot(500))  # Dépôt de 500\n",
    "print(\"Solde après retrait de 200:\", compte.retrait(200))  # Retrait de 200\n",
    "print(\"Solde après retrait de 1500:\", compte.retrait(1500))  # Tentative de retrait de 1500\n"
   ]
  },
  {
   "cell_type": "code",
   "execution_count": null,
   "id": "31eaaf8a-ddbf-4d74-97bc-e2f65d260a9c",
   "metadata": {},
   "outputs": [],
   "source": []
  }
 ],
 "metadata": {
  "kernelspec": {
   "display_name": "Python 3 (ipykernel)",
   "language": "python",
   "name": "python3"
  },
  "language_info": {
   "codemirror_mode": {
    "name": "ipython",
    "version": 3
   },
   "file_extension": ".py",
   "mimetype": "text/x-python",
   "name": "python",
   "nbconvert_exporter": "python",
   "pygments_lexer": "ipython3",
   "version": "3.12.4"
  }
 },
 "nbformat": 4,
 "nbformat_minor": 5
}
